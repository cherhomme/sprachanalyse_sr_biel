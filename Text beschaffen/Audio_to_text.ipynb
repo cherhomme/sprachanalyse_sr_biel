{
 "cells": [
  {
   "cell_type": "code",
   "execution_count": 199,
   "id": "123d593e-c451-44d7-8905-0be1c9fe5dde",
   "metadata": {},
   "outputs": [],
   "source": [
    "import re"
   ]
  },
  {
   "cell_type": "code",
   "execution_count": 200,
   "id": "b294d077-fe9e-4f0f-bd34-d2bd08ed7460",
   "metadata": {},
   "outputs": [],
   "source": [
    "import replicate"
   ]
  },
  {
   "cell_type": "markdown",
   "id": "29212866-abad-48fd-9a02-432fa1e3aad0",
   "metadata": {},
   "source": [
    "Extract mp3-meta-information (download url)"
   ]
  },
  {
   "cell_type": "code",
   "execution_count": 357,
   "id": "88eec436-9f80-4e46-88c3-0aa569001efc",
   "metadata": {},
   "outputs": [],
   "source": [
    "file_path = \"/Users/j/Documents/GitHub/abschlussarbeit/sr-urls-nov-b-2023.txt\"\n",
    "# Open the file in read mode\n",
    "with open(file_path, 'r') as file:\n",
    "    # Read the contents of the file\n",
    "    file_contents = file.read()\n",
    "\n",
    "#print(file_contents)"
   ]
  },
  {
   "cell_type": "code",
   "execution_count": 358,
   "id": "43c80d65-2e05-41ec-a62f-28b2c78605cd",
   "metadata": {},
   "outputs": [],
   "source": [
    "# Define a regex pattern to match URLs\n",
    "url_pattern = re.compile(r'https?://stverbalixpublish[^\\s]+')\n",
    "\n",
    "# Find all matches in the content\n",
    "url_list_a = url_pattern.findall(file_contents)"
   ]
  },
  {
   "cell_type": "code",
   "execution_count": 359,
   "id": "5c6f411d-b6f3-42e1-ad65-9f538c0dc031",
   "metadata": {},
   "outputs": [],
   "source": [
    "url_list = []\n",
    "\n",
    "for elem in url_list_a:\n",
    "    no_comma=elem.rstrip(',')\n",
    "    url_list.append(no_comma)"
   ]
  },
  {
   "cell_type": "code",
   "execution_count": 360,
   "id": "80b1c73c-08c2-45b2-916f-d31bc1233308",
   "metadata": {},
   "outputs": [
    {
     "data": {
      "text/plain": [
       "['https://stverbalixpublish.blob.core.windows.net/biel/23_SR_CV_11_16/opening_1700154116761.mp3',\n",
       " 'https://stverbalixpublish.blob.core.windows.net/biel/23_SR_CV_11_16/1700154170914_1700154200178.mp3',\n",
       " 'https://stverbalixpublish.blob.core.windows.net/biel/23_SR_CV_11_16/1700154170914_1700154285544.mp3',\n",
       " 'https://stverbalixpublish.blob.core.windows.net/biel/23_SR_CV_11_16/1700154386922_1700154393205.mp3',\n",
       " 'https://stverbalixpublish.blob.core.windows.net/biel/23_SR_CV_11_16/1700154386922_1700154670094.mp3',\n",
       " 'https://stverbalixpublish.blob.core.windows.net/biel/23_SR_CV_11_16/1700154386922_1700155182759.mp3',\n",
       " 'https://stverbalixpublish.blob.core.windows.net/biel/23_SR_CV_11_16/1700154386922_1700155236229.mp3',\n",
       " 'https://stverbalixpublish.blob.core.windows.net/biel/23_SR_CV_11_16/1700154386922_1700155309265.mp3',\n",
       " 'https://stverbalixpublish.blob.core.windows.net/biel/23_SR_CV_11_16/1700154386922_1700155392710.mp3',\n",
       " 'https://stverbalixpublish.blob.core.windows.net/biel/23_SR_CV_11_16/1700154386922_1700155486461.mp3',\n",
       " 'https://stverbalixpublish.blob.core.windows.net/biel/23_SR_CV_11_16/1700154386922_1700155739374.mp3',\n",
       " 'https://stverbalixpublish.blob.core.windows.net/biel/23_SR_CV_11_16/1700154386922_1700155831742.mp3',\n",
       " 'https://stverbalixpublish.blob.core.windows.net/biel/23_SR_CV_11_16/1700154386922_1700155958637.mp3',\n",
       " 'https://stverbalixpublish.blob.core.windows.net/biel/23_SR_CV_11_16/1700154386922_1700156109496.mp3',\n",
       " 'https://stverbalixpublish.blob.core.windows.net/biel/23_SR_CV_11_16/1700154386922_1700156184045.mp3',\n",
       " 'https://stverbalixpublish.blob.core.windows.net/biel/23_SR_CV_11_16/1700156195623_1700156198966.mp3',\n",
       " 'https://stverbalixpublish.blob.core.windows.net/biel/23_SR_CV_11_16/1700156195623_1700156477133.mp3',\n",
       " 'https://stverbalixpublish.blob.core.windows.net/biel/23_SR_CV_11_16/1700156195623_1700156517718.mp3',\n",
       " 'https://stverbalixpublish.blob.core.windows.net/biel/23_SR_CV_11_16/1700156195623_1700156535209.mp3',\n",
       " 'https://stverbalixpublish.blob.core.windows.net/biel/23_SR_CV_11_16/1700156195623_1700157067933.mp3',\n",
       " 'https://stverbalixpublish.blob.core.windows.net/biel/23_SR_CV_11_16/1700156195623_1700157186361.mp3',\n",
       " 'https://stverbalixpublish.blob.core.windows.net/biel/23_SR_CV_11_16/1700156195623_1700157597243.mp3',\n",
       " 'https://stverbalixpublish.blob.core.windows.net/biel/23_SR_CV_11_16/1700156195623_1700158014760.mp3',\n",
       " 'https://stverbalixpublish.blob.core.windows.net/biel/23_SR_CV_11_16/1700156195623_1700158382009.mp3',\n",
       " 'https://stverbalixpublish.blob.core.windows.net/biel/23_SR_CV_11_16/1700156195623_1700158528970.mp3',\n",
       " 'https://stverbalixpublish.blob.core.windows.net/biel/23_SR_CV_11_16/1700156195623_1700158569175.mp3',\n",
       " 'https://stverbalixpublish.blob.core.windows.net/biel/23_SR_CV_11_16/1700156195623_1700158630593.mp3',\n",
       " 'https://stverbalixpublish.blob.core.windows.net/biel/23_SR_CV_11_16/1700156195623_1700158678795.mp3',\n",
       " 'https://stverbalixpublish.blob.core.windows.net/biel/23_SR_CV_11_16/1700156195623_1700158751565.mp3',\n",
       " 'https://stverbalixpublish.blob.core.windows.net/biel/23_SR_CV_11_16/1700156195623_1700158797174.mp3',\n",
       " 'https://stverbalixpublish.blob.core.windows.net/biel/23_SR_CV_11_16/1700156195623_1700158967840.mp3',\n",
       " 'https://stverbalixpublish.blob.core.windows.net/biel/23_SR_CV_11_16/1700156195623_1700159050962.mp3',\n",
       " 'https://stverbalixpublish.blob.core.windows.net/biel/23_SR_CV_11_16/1700156195623_1700159142608.mp3',\n",
       " 'https://stverbalixpublish.blob.core.windows.net/biel/23_SR_CV_11_16/1700156195623_1700159169696.mp3',\n",
       " 'https://stverbalixpublish.blob.core.windows.net/biel/23_SR_CV_11_16/1700156195623_1700159247577.mp3',\n",
       " 'https://stverbalixpublish.blob.core.windows.net/biel/23_SR_CV_11_16/1700156195623_1700159315975.mp3',\n",
       " 'https://stverbalixpublish.blob.core.windows.net/biel/23_SR_CV_11_16/1700156195623_1700159349785.mp3',\n",
       " 'https://stverbalixpublish.blob.core.windows.net/biel/23_SR_CV_11_16/1700156195623_1700159431636.mp3',\n",
       " 'https://stverbalixpublish.blob.core.windows.net/biel/23_SR_CV_11_16/1700156195623_1700159523819.mp3',\n",
       " 'https://stverbalixpublish.blob.core.windows.net/biel/23_SR_CV_11_16/1700156195623_1700159607458.mp3',\n",
       " 'https://stverbalixpublish.blob.core.windows.net/biel/23_SR_CV_11_16/1700156195623_1700159662188.mp3',\n",
       " 'https://stverbalixpublish.blob.core.windows.net/biel/23_SR_CV_11_16/1700156195623_1700159718926.mp3',\n",
       " 'https://stverbalixpublish.blob.core.windows.net/biel/23_SR_CV_11_16/1700156195623_1700159791817.mp3',\n",
       " 'https://stverbalixpublish.blob.core.windows.net/biel/23_SR_CV_11_16/1700156195623_1700159941506.mp3',\n",
       " 'https://stverbalixpublish.blob.core.windows.net/biel/23_SR_CV_11_16/1700156195623_1700160077745.mp3',\n",
       " 'https://stverbalixpublish.blob.core.windows.net/biel/23_SR_CV_11_16/1700156195623_1700160321124.mp3',\n",
       " 'https://stverbalixpublish.blob.core.windows.net/biel/23_SR_CV_11_16/1700156195623_1700160415495.mp3',\n",
       " 'https://stverbalixpublish.blob.core.windows.net/biel/23_SR_CV_11_16/1700156195623_1700160464127.mp3',\n",
       " 'https://stverbalixpublish.blob.core.windows.net/biel/23_SR_CV_11_16/1700156195623_1700160647111.mp3',\n",
       " 'https://stverbalixpublish.blob.core.windows.net/biel/23_SR_CV_11_16/1700156195623_1700160736706.mp3',\n",
       " 'https://stverbalixpublish.blob.core.windows.net/biel/23_SR_CV_11_16/1700160932536_1700160935296.mp3',\n",
       " 'https://stverbalixpublish.blob.core.windows.net/biel/23_SR_CV_11_16/1700160932536_1700164921934.mp3',\n",
       " 'https://stverbalixpublish.blob.core.windows.net/biel/23_SR_CV_11_16/1700160932536_1700165115003.mp3',\n",
       " 'https://stverbalixpublish.blob.core.windows.net/biel/23_SR_CV_11_16/1700160932536_1700165220321.mp3',\n",
       " 'https://stverbalixpublish.blob.core.windows.net/biel/23_SR_CV_11_16/1700160932536_1700165336187.mp3',\n",
       " 'https://stverbalixpublish.blob.core.windows.net/biel/23_SR_CV_11_16/1700160932536_1700165359420.mp3',\n",
       " 'https://stverbalixpublish.blob.core.windows.net/biel/23_SR_CV_11_16/1700160932536_1700165496123.mp3',\n",
       " 'https://stverbalixpublish.blob.core.windows.net/biel/23_SR_CV_11_16/1700160932536_1700165633777.mp3',\n",
       " 'https://stverbalixpublish.blob.core.windows.net/biel/23_SR_CV_11_16/1700160932536_1700165650221.mp3',\n",
       " 'https://stverbalixpublish.blob.core.windows.net/biel/23_SR_CV_11_16/1700160932536_1700165729371.mp3',\n",
       " 'https://stverbalixpublish.blob.core.windows.net/biel/23_SR_CV_11_16/1700160932536_1700165823252.mp3',\n",
       " 'https://stverbalixpublish.blob.core.windows.net/biel/23_SR_CV_11_16/1700160932536_1700165866576.mp3',\n",
       " 'https://stverbalixpublish.blob.core.windows.net/biel/23_SR_CV_11_16/1700160932536_1700165914345.mp3',\n",
       " 'https://stverbalixpublish.blob.core.windows.net/biel/23_SR_CV_11_16/1700160932536_1700166073241.mp3',\n",
       " 'https://stverbalixpublish.blob.core.windows.net/biel/23_SR_CV_11_16/1700160932536_1700166159786.mp3',\n",
       " 'https://stverbalixpublish.blob.core.windows.net/biel/23_SR_CV_11_16/1700160932536_1700166194074.mp3',\n",
       " 'https://stverbalixpublish.blob.core.windows.net/biel/23_SR_CV_11_16/1700160932536_1700166263254.mp3',\n",
       " 'https://stverbalixpublish.blob.core.windows.net/biel/23_SR_CV_11_16/1700160932536_1700166304816.mp3',\n",
       " 'https://stverbalixpublish.blob.core.windows.net/biel/23_SR_CV_11_16/1700160932536_1700166329899.mp3',\n",
       " 'https://stverbalixpublish.blob.core.windows.net/biel/23_SR_CV_11_16/1700160932536_1700166428691.mp3',\n",
       " 'https://stverbalixpublish.blob.core.windows.net/biel/23_SR_CV_11_16/1700166476156_1700166481390.mp3',\n",
       " 'https://stverbalixpublish.blob.core.windows.net/biel/23_SR_CV_11_16/1700166476156_1700166487041.mp3',\n",
       " 'https://stverbalixpublish.blob.core.windows.net/biel/23_SR_CV_11_16/1700166476156_1700166765819.mp3',\n",
       " 'https://stverbalixpublish.blob.core.windows.net/biel/23_SR_CV_11_16/1700166988498_1700166998700.mp3',\n",
       " 'https://stverbalixpublish.blob.core.windows.net/biel/23_SR_CV_11_16/1700166988498_1700167000337.mp3',\n",
       " 'https://stverbalixpublish.blob.core.windows.net/biel/23_SR_CV_11_16/1700166988498_1700167123385.mp3',\n",
       " 'https://stverbalixpublish.blob.core.windows.net/biel/23_SR_CV_11_16/1700167166752_1700167168526.mp3',\n",
       " 'https://stverbalixpublish.blob.core.windows.net/biel/23_SR_CV_11_16/1700167166752_1700167171821.mp3',\n",
       " 'https://stverbalixpublish.blob.core.windows.net/biel/23_SR_CV_11_16/1700167241527_1700167253500.mp3',\n",
       " 'https://stverbalixpublish.blob.core.windows.net/biel/23_SR_CV_11_16/1700167241527_1700167255352.mp3',\n",
       " 'https://stverbalixpublish.blob.core.windows.net/biel/23_SR_CV_11_16/1700167479041_1700167485045.mp3',\n",
       " 'https://stverbalixpublish.blob.core.windows.net/biel/23_SR_CV_11_16/1700167479041_1700167485916.mp3',\n",
       " 'https://stverbalixpublish.blob.core.windows.net/biel/23_SR_CV_11_16/1700167479041_1700167784237.mp3',\n",
       " 'https://stverbalixpublish.blob.core.windows.net/biel/23_SR_CV_11_16/1700167479041_1700167942649.mp3',\n",
       " 'https://stverbalixpublish.blob.core.windows.net/biel/23_SR_CV_11_16/1700167980614_1700167986563.mp3',\n",
       " 'https://stverbalixpublish.blob.core.windows.net/biel/23_SR_CV_11_16/1700167980614_1700167990431.mp3',\n",
       " 'https://stverbalixpublish.blob.core.windows.net/biel/23_SR_CV_11_16/1700167980614_1700168017885.mp3',\n",
       " 'https://stverbalixpublish.blob.core.windows.net/biel/23_SR_CV_11_16/1700168054007_1700168056785.mp3',\n",
       " 'https://stverbalixpublish.blob.core.windows.net/biel/23_SR_CV_11_16/1700168054007_1700168059563.mp3',\n",
       " 'https://stverbalixpublish.blob.core.windows.net/biel/23_SR_CV_11_16/1700168054007_1700168333760.mp3']"
      ]
     },
     "execution_count": 360,
     "metadata": {},
     "output_type": "execute_result"
    }
   ],
   "source": [
    "url_list"
   ]
  },
  {
   "cell_type": "markdown",
   "id": "bee31540-edbe-46dc-a4d1-f629e4993a3c",
   "metadata": {},
   "source": [
    "Set the authentification token for the environment, using os."
   ]
  },
  {
   "cell_type": "code",
   "execution_count": 361,
   "id": "047fe3c5-746f-4719-aee8-6642ed76dd6c",
   "metadata": {},
   "outputs": [],
   "source": [
    "os.environ['REPLICATE_API_TOKEN'] = 'r8_cW5CVo57mwMZ6HNquLGPSownpy334aD4Q63SX'"
   ]
  },
  {
   "cell_type": "code",
   "execution_count": 362,
   "id": "23d14188-b1a6-4e14-ab02-fe551cc0d47b",
   "metadata": {},
   "outputs": [],
   "source": [
    "#text = \"\"\n",
    "#for url in url_list:\n",
    "#    output = replicate.run(\n",
    "#        \"openai/whisper:4d50797290df275329f202e48c76360b3f22b08d28c196cbc54600319435f8d2\",\n",
    "#        input={\n",
    "#            \"audio\": str(url)\n",
    "#        }\n",
    "#    )\n",
    "#    transcription = output['transcription']\n",
    "#    text += transcription + \" \"  # Add a space between transcriptions\n",
    "\n",
    "# Print or use the final 'text' variable as needed\n",
    "#print(text)"
   ]
  },
  {
   "cell_type": "code",
   "execution_count": 363,
   "id": "a5a34cef-10ce-48ee-8055-44e333077ace",
   "metadata": {},
   "outputs": [
    {
     "name": "stdout",
     "output_type": "stream",
     "text": [
      "Processing completed.\n"
     ]
    }
   ],
   "source": [
    "text = \"\"\n",
    "results = []\n",
    "\n",
    "# Set initial value of i to 0 or the index where you want to start\n",
    "i = 0\n",
    "\n",
    "while i < len(url_list):\n",
    "    try:\n",
    "        url = url_list[i]\n",
    "        output = replicate.run(\n",
    "            \"openai/whisper:4d50797290df275329f202e48c76360b3f22b08d28c196cbc54600319435f8d2\",\n",
    "            input={\n",
    "                \"audio\": str(url)\n",
    "            }\n",
    "        )\n",
    "        transcription = output['transcription']\n",
    "        text += transcription + \" \"  # Add a space between transcriptions\n",
    "        results.append((url, transcription))  # Save result intermittently\n",
    "        i += 1  # Move to the next iteration\n",
    "    except Exception as e:\n",
    "        print(f\"An error occurred at index {i}: {str(e)}\")\n",
    "        # Save the current index to a file or database\n",
    "        with open(\"breakpoint.txt\", \"w\") as breakpoint_file:\n",
    "            breakpoint_file.write(str(i))\n",
    "        break  # Stop the loop on error\n",
    "\n",
    "# Save the results to a file or process them as needed\n",
    "with open(\"transcription_results-a-2023-10.txt\", \"w\") as file:\n",
    "    for url, transcription in results:\n",
    "        file.write(f\"{url}: {transcription}\\n\")\n",
    "\n",
    "print(\"Processing completed.\")"
   ]
  },
  {
   "cell_type": "code",
   "execution_count": null,
   "id": "455df854-1e9c-4901-95df-2fe97a4a7250",
   "metadata": {},
   "outputs": [],
   "source": []
  }
 ],
 "metadata": {
  "kernelspec": {
   "display_name": "Python 3 (ipykernel)",
   "language": "python",
   "name": "python3"
  },
  "language_info": {
   "codemirror_mode": {
    "name": "ipython",
    "version": 3
   },
   "file_extension": ".py",
   "mimetype": "text/x-python",
   "name": "python",
   "nbconvert_exporter": "python",
   "pygments_lexer": "ipython3",
   "version": "3.11.5"
  }
 },
 "nbformat": 4,
 "nbformat_minor": 5
}
